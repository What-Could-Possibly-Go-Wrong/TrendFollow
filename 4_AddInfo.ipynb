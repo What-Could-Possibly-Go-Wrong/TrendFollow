{
 "cells": [
  {
   "cell_type": "code",
   "execution_count": 1,
   "metadata": {
    "execution": {
     "iopub.execute_input": "2023-04-08T20:37:30.606408Z",
     "iopub.status.busy": "2023-04-08T20:37:30.606408Z",
     "iopub.status.idle": "2023-04-08T20:37:32.327061Z",
     "shell.execute_reply": "2023-04-08T20:37:32.326020Z"
    }
   },
   "outputs": [],
   "source": [
    "import pandas as pd\n",
    "import numpy as np\n",
    "import yfinance as yf\n",
    "import seaborn as sns\n",
    "import matplotlib.pyplot as plt\n",
    "import pandas_datareader as pdr\n",
    "import datetime\n",
    "import os\n",
    "import csv"
   ]
  },
  {
   "cell_type": "code",
   "execution_count": 2,
   "metadata": {
    "execution": {
     "iopub.execute_input": "2023-04-08T20:37:32.331531Z",
     "iopub.status.busy": "2023-04-08T20:37:32.330532Z",
     "iopub.status.idle": "2023-04-08T20:37:33.245680Z",
     "shell.execute_reply": "2023-04-08T20:37:33.244702Z"
    }
   },
   "outputs": [],
   "source": [
    "# Pfad zur parquet Datei\n",
    "file_path = \"Data/AllStockDataDownload_XS.parquet\"\n",
    "\n",
    "# Parquet-Datei in DataFrame laden\n",
    "all = pd.read_parquet(file_path)\n",
    "all = all.rename(columns={'Adj Close': 'Value', 'ticker': 'Ticker'})"
   ]
  },
  {
   "cell_type": "code",
   "execution_count": 3,
   "metadata": {
    "execution": {
     "iopub.execute_input": "2023-04-08T20:37:33.250312Z",
     "iopub.status.busy": "2023-04-08T20:37:33.249305Z",
     "iopub.status.idle": "2023-04-08T20:39:14.763116Z",
     "shell.execute_reply": "2023-04-08T20:39:14.762147Z"
    }
   },
   "outputs": [],
   "source": [
    "MovingAverage = [10, 20, 50, 100, 200, 500]\n",
    "\n",
    "# Gruppiere die Daten nach Ticker\n",
    "grouped = all.groupby('Ticker')\n",
    "\n",
    "# Erstellen Sie ein leeres DataFrame, um die Ergebnisse zu speichern\n",
    "result_df = pd.DataFrame()\n",
    "\n",
    "for ticker, group in grouped:\n",
    "    group_copy = group.copy()  # Erstellen Sie eine Kopie des Gruppen-DataFrames\n",
    "    for w in MovingAverage:\n",
    "        col_name = f'MA_{w}'\n",
    "        group_copy[col_name] = group_copy['Value'].rolling(w).mean()\n",
    "    result_df = pd.concat([result_df, group_copy])  # Füge die Gruppe dem resultierenden DataFrame hinzu\n",
    "\n",
    "all = result_df.reset_index(drop=True)  # Setze den Index zurück, um die ursprüngliche Indexierung beizubehalten\n",
    "\n",
    "all = all.astype({'MA_10': 'float32', 'MA_20': 'float32', 'MA_50': 'float32', 'MA_100': 'float32', 'MA_200': 'float32', 'MA_500': 'float32'})"
   ]
  },
  {
   "cell_type": "code",
   "execution_count": 4,
   "metadata": {
    "execution": {
     "iopub.execute_input": "2023-04-08T20:39:14.768716Z",
     "iopub.status.busy": "2023-04-08T20:39:14.768114Z",
     "iopub.status.idle": "2023-04-08T20:39:14.779237Z",
     "shell.execute_reply": "2023-04-08T20:39:14.778326Z"
    }
   },
   "outputs": [
    {
     "name": "stdout",
     "output_type": "stream",
     "text": [
      "<class 'pandas.core.frame.DataFrame'>\n",
      "RangeIndex: 7672724 entries, 0 to 7672723\n",
      "Data columns (total 10 columns):\n",
      " #   Column  Dtype  \n",
      "---  ------  -----  \n",
      " 0   Date    object \n",
      " 1   Value   float32\n",
      " 2   Volume  float32\n",
      " 3   Ticker  object \n",
      " 4   MA_10   float32\n",
      " 5   MA_20   float32\n",
      " 6   MA_50   float32\n",
      " 7   MA_100  float32\n",
      " 8   MA_200  float32\n",
      " 9   MA_500  float32\n",
      "dtypes: float32(8), object(2)\n",
      "memory usage: 351.2+ MB\n"
     ]
    }
   ],
   "source": [
    "all.info()"
   ]
  },
  {
   "cell_type": "code",
   "execution_count": 5,
   "metadata": {
    "execution": {
     "iopub.execute_input": "2023-04-08T20:39:14.811027Z",
     "iopub.status.busy": "2023-04-08T20:39:14.811027Z",
     "iopub.status.idle": "2023-04-08T20:39:57.454035Z",
     "shell.execute_reply": "2023-04-08T20:39:57.453034Z"
    }
   },
   "outputs": [
    {
     "name": "stdout",
     "output_type": "stream",
     "text": [
      "CPU times: total: 37.8 s\n",
      "Wall time: 42.6 s\n"
     ]
    }
   ],
   "source": [
    "folder = 'Data'\n",
    "filename = 'AllStockDataDownload_MAVG.csv'\n",
    "file_path = os.path.join(folder, filename)\n",
    "%time all.to_csv(file_path, index=False)"
   ]
  },
  {
   "cell_type": "code",
   "execution_count": 6,
   "metadata": {
    "execution": {
     "iopub.execute_input": "2023-04-08T20:39:57.457035Z",
     "iopub.status.busy": "2023-04-08T20:39:57.456037Z",
     "iopub.status.idle": "2023-04-08T20:39:57.720849Z",
     "shell.execute_reply": "2023-04-08T20:39:57.719873Z"
    }
   },
   "outputs": [
    {
     "data": {
      "text/plain": [
       "1113"
      ]
     },
     "execution_count": 6,
     "metadata": {},
     "output_type": "execute_result"
    }
   ],
   "source": [
    "all['Ticker'].nunique()"
   ]
  }
 ],
 "metadata": {
  "kernelspec": {
   "display_name": "base",
   "language": "python",
   "name": "python3"
  },
  "language_info": {
   "codemirror_mode": {
    "name": "ipython",
    "version": 3
   },
   "file_extension": ".py",
   "mimetype": "text/x-python",
   "name": "python",
   "nbconvert_exporter": "python",
   "pygments_lexer": "ipython3",
   "version": "3.9.16"
  }
 },
 "nbformat": 4,
 "nbformat_minor": 2
}
