{
 "cells": [
  {
   "cell_type": "code",
   "execution_count": 1,
   "metadata": {
    "execution": {
     "iopub.execute_input": "2023-04-08T20:35:27.620865Z",
     "iopub.status.busy": "2023-04-08T20:35:27.620865Z",
     "iopub.status.idle": "2023-04-08T20:35:29.386534Z",
     "shell.execute_reply": "2023-04-08T20:35:29.385409Z"
    }
   },
   "outputs": [],
   "source": [
    "import pandas as pd\n",
    "import numpy as np\n",
    "import yfinance as yf\n",
    "import seaborn as sns\n",
    "import matplotlib.pyplot as plt\n",
    "import pandas_datareader as pdr\n",
    "import datetime\n",
    "import os\n",
    "import csv"
   ]
  },
  {
   "cell_type": "code",
   "execution_count": 2,
   "metadata": {
    "execution": {
     "iopub.execute_input": "2023-04-08T20:35:29.389131Z",
     "iopub.status.busy": "2023-04-08T20:35:29.389131Z",
     "iopub.status.idle": "2023-04-08T20:35:35.800028Z",
     "shell.execute_reply": "2023-04-08T20:35:35.798923Z"
    }
   },
   "outputs": [],
   "source": [
    "# Pfad zur CSV-Datei\n",
    "file_path = \"Data/AllStockDataDownload.csv\"\n",
    "\n",
    "# CSV-Datei in DataFrame laden\n",
    "all = pd.read_csv(file_path)"
   ]
  },
  {
   "cell_type": "code",
   "execution_count": 3,
   "metadata": {
    "execution": {
     "iopub.execute_input": "2023-04-08T20:35:35.803922Z",
     "iopub.status.busy": "2023-04-08T20:35:35.802923Z",
     "iopub.status.idle": "2023-04-08T20:35:35.814158Z",
     "shell.execute_reply": "2023-04-08T20:35:35.814158Z"
    }
   },
   "outputs": [
    {
     "name": "stdout",
     "output_type": "stream",
     "text": [
      "<class 'pandas.core.frame.DataFrame'>\n",
      "RangeIndex: 7714952 entries, 0 to 7714951\n",
      "Data columns (total 8 columns):\n",
      " #   Column     Dtype  \n",
      "---  ------     -----  \n",
      " 0   Date       object \n",
      " 1   Open       float64\n",
      " 2   High       float64\n",
      " 3   Low        float64\n",
      " 4   Close      float64\n",
      " 5   Adj Close  float64\n",
      " 6   Volume     float64\n",
      " 7   ticker     object \n",
      "dtypes: float64(6), object(2)\n",
      "memory usage: 470.9+ MB\n"
     ]
    }
   ],
   "source": [
    "all.info()"
   ]
  },
  {
   "cell_type": "code",
   "execution_count": 4,
   "metadata": {
    "execution": {
     "iopub.execute_input": "2023-04-08T20:35:35.843506Z",
     "iopub.status.busy": "2023-04-08T20:35:35.842506Z",
     "iopub.status.idle": "2023-04-08T20:35:57.186321Z",
     "shell.execute_reply": "2023-04-08T20:35:57.186321Z"
    }
   },
   "outputs": [
    {
     "name": "stdout",
     "output_type": "stream",
     "text": [
      "Date         0\n",
      "Open         0\n",
      "High         0\n",
      "Low          0\n",
      "Close        0\n",
      "Adj Close    0\n",
      "Volume       0\n",
      "ticker       0\n",
      "dtype: int64\n",
      "Anzahl der Duplikate:  42228\n",
      "Anzahl der Duplikate nach bereinigung:  0\n"
     ]
    }
   ],
   "source": [
    "print(all.isnull().sum())\n",
    "print(\"Anzahl der Duplikate: \",all.duplicated().sum())\n",
    "all.drop_duplicates(inplace=True)\n",
    "print(\"Anzahl der Duplikate nach bereinigung: \",all.duplicated().sum())\n",
    "\n",
    "\n"
   ]
  },
  {
   "cell_type": "code",
   "execution_count": 5,
   "metadata": {
    "execution": {
     "iopub.execute_input": "2023-04-08T20:35:57.189833Z",
     "iopub.status.busy": "2023-04-08T20:35:57.189833Z",
     "iopub.status.idle": "2023-04-08T20:36:41.090586Z",
     "shell.execute_reply": "2023-04-08T20:36:41.089579Z"
    }
   },
   "outputs": [],
   "source": [
    "folder = 'Data'\n",
    "filename = 'AllStockDataDownload_Bereinigt_1.csv'\n",
    "file_path = os.path.join(folder, filename)\n",
    "all.to_csv(file_path, index=False)"
   ]
  },
  {
   "cell_type": "code",
   "execution_count": 6,
   "metadata": {
    "execution": {
     "iopub.execute_input": "2023-04-08T20:36:41.093586Z",
     "iopub.status.busy": "2023-04-08T20:36:41.092586Z",
     "iopub.status.idle": "2023-04-08T20:36:44.198639Z",
     "shell.execute_reply": "2023-04-08T20:36:44.197144Z"
    }
   },
   "outputs": [],
   "source": [
    "folder = 'Data'\n",
    "filename = 'AllStockDataDownload_Bereinigt_1.parquet'\n",
    "file_path = os.path.join(folder, filename)\n",
    "all.to_parquet(file_path, index=False)"
   ]
  },
  {
   "cell_type": "code",
   "execution_count": 7,
   "metadata": {
    "execution": {
     "iopub.execute_input": "2023-04-08T20:36:44.201649Z",
     "iopub.status.busy": "2023-04-08T20:36:44.201649Z",
     "iopub.status.idle": "2023-04-08T20:36:44.508877Z",
     "shell.execute_reply": "2023-04-08T20:36:44.507947Z"
    }
   },
   "outputs": [],
   "source": [
    "df = all.drop(['Open', 'High','Low','Close'], axis=1)\n",
    "df = df.astype({'Adj Close': 'float32', 'Volume': 'float32'})"
   ]
  },
  {
   "cell_type": "code",
   "execution_count": 8,
   "metadata": {
    "execution": {
     "iopub.execute_input": "2023-04-08T20:36:44.513885Z",
     "iopub.status.busy": "2023-04-08T20:36:44.513885Z",
     "iopub.status.idle": "2023-04-08T20:37:02.418879Z",
     "shell.execute_reply": "2023-04-08T20:37:02.417980Z"
    }
   },
   "outputs": [
    {
     "name": "stdout",
     "output_type": "stream",
     "text": [
      "CPU times: total: 14.8 s\n",
      "Wall time: 16.2 s\n",
      "CPU times: total: 1.52 s\n",
      "Wall time: 1.72 s\n"
     ]
    }
   ],
   "source": [
    "folder = 'Data'\n",
    "filename = 'AllStockDataDownload_XS.csv'\n",
    "file_path = os.path.join(folder, filename)\n",
    "%time df.to_csv(file_path, index=False)\n",
    "folder = 'Data'\n",
    "filename = 'AllStockDataDownload_XS.parquet'\n",
    "file_path = os.path.join(folder, filename)\n",
    "%time df.to_parquet(file_path, index=False)"
   ]
  },
  {
   "cell_type": "code",
   "execution_count": null,
   "metadata": {},
   "outputs": [],
   "source": []
  }
 ],
 "metadata": {
  "kernelspec": {
   "display_name": "base",
   "language": "python",
   "name": "python3"
  },
  "language_info": {
   "codemirror_mode": {
    "name": "ipython",
    "version": 3
   },
   "file_extension": ".py",
   "mimetype": "text/x-python",
   "name": "python",
   "nbconvert_exporter": "python",
   "pygments_lexer": "ipython3",
   "version": "3.9.16"
  }
 },
 "nbformat": 4,
 "nbformat_minor": 2
}
