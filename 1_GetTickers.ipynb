{
 "cells": [
  {
   "cell_type": "code",
   "execution_count": 1,
   "metadata": {
    "execution": {
     "iopub.execute_input": "2023-04-08T20:24:15.787537Z",
     "iopub.status.busy": "2023-04-08T20:24:15.787537Z",
     "iopub.status.idle": "2023-04-08T20:24:17.872568Z",
     "shell.execute_reply": "2023-04-08T20:24:17.872568Z"
    }
   },
   "outputs": [
    {
     "name": "stdout",
     "output_type": "stream",
     "text": [
      "S&P 500 Tickers:\n",
      "['MMM', 'AOS', 'ABT', 'ABBV', 'ACN', 'ATVI', 'ADM', 'ADBE', 'ADP', 'AAP', 'AES', 'AFL', 'A', 'APD', 'AKAM', 'ALK', 'ALB', 'ARE', 'ALGN', 'ALLE', 'LNT', 'ALL', 'GOOGL', 'GOOG', 'MO', 'AMZN', 'AMCR', 'AMD', 'AEE', 'AAL', 'AEP', 'AXP', 'AIG', 'AMT', 'AWK', 'AMP', 'ABC', 'AME', 'AMGN', 'APH', 'ADI', 'ANSS', 'AON', 'APA', 'AAPL', 'AMAT', 'APTV', 'ACGL', 'ANET', 'AJG', 'AIZ', 'T', 'ATO', 'ADSK', 'AZO', 'AVB', 'AVY', 'BKR', 'BALL', 'BAC', 'BBWI', 'BAX', 'BDX', 'WRB', 'BRK.B', 'BBY', 'BIO', 'TECH', 'BIIB', 'BLK', 'BK', 'BA', 'BKNG', 'BWA', 'BXP', 'BSX', 'BMY', 'AVGO', 'BR', 'BRO', 'BF.B', 'BG', 'CHRW', 'CDNS', 'CZR', 'CPT', 'CPB', 'COF', 'CAH', 'KMX', 'CCL', 'CARR', 'CTLT', 'CAT', 'CBOE', 'CBRE', 'CDW', 'CE', 'CNC', 'CNP', 'CDAY', 'CF', 'CRL', 'SCHW', 'CHTR', 'CVX', 'CMG', 'CB', 'CHD', 'CI', 'CINF', 'CTAS', 'CSCO', 'C', 'CFG', 'CLX', 'CME', 'CMS', 'KO', 'CTSH', 'CL', 'CMCSA', 'CMA', 'CAG', 'COP', 'ED', 'STZ', 'CEG', 'COO', 'CPRT', 'GLW', 'CTVA', 'CSGP', 'COST', 'CTRA', 'CCI', 'CSX', 'CMI', 'CVS', 'DHI', 'DHR', 'DRI', 'DVA', 'DE', 'DAL', 'XRAY', 'DVN', 'DXCM', 'FANG', 'DLR', 'DFS', 'DISH', 'DIS', 'DG', 'DLTR', 'D', 'DPZ', 'DOV', 'DOW', 'DTE', 'DUK', 'DD', 'DXC', 'EMN', 'ETN', 'EBAY', 'ECL', 'EIX', 'EW', 'EA', 'ELV', 'LLY', 'EMR', 'ENPH', 'ETR', 'EOG', 'EPAM', 'EQT', 'EFX', 'EQIX', 'EQR', 'ESS', 'EL', 'ETSY', 'RE', 'EVRG', 'ES', 'EXC', 'EXPE', 'EXPD', 'EXR', 'XOM', 'FFIV', 'FDS', 'FICO', 'FAST', 'FRT', 'FDX', 'FITB', 'FRC', 'FSLR', 'FE', 'FIS', 'FISV', 'FLT', 'FMC', 'F', 'FTNT', 'FTV', 'FOXA', 'FOX', 'BEN', 'FCX', 'GRMN', 'IT', 'GEHC', 'GEN', 'GNRC', 'GD', 'GE', 'GIS', 'GM', 'GPC', 'GILD', 'GL', 'GPN', 'GS', 'HAL', 'HIG', 'HAS', 'HCA', 'PEAK', 'HSIC', 'HSY', 'HES', 'HPE', 'HLT', 'HOLX', 'HD', 'HON', 'HRL', 'HST', 'HWM', 'HPQ', 'HUM', 'HBAN', 'HII', 'IBM', 'IEX', 'IDXX', 'ITW', 'ILMN', 'INCY', 'IR', 'PODD', 'INTC', 'ICE', 'IFF', 'IP', 'IPG', 'INTU', 'ISRG', 'IVZ', 'INVH', 'IQV', 'IRM', 'JBHT', 'JKHY', 'J', 'JNJ', 'JCI', 'JPM', 'JNPR', 'K', 'KDP', 'KEY', 'KEYS', 'KMB', 'KIM', 'KMI', 'KLAC', 'KHC', 'KR', 'LHX', 'LH', 'LRCX', 'LW', 'LVS', 'LDOS', 'LEN', 'LNC', 'LIN', 'LYV', 'LKQ', 'LMT', 'L', 'LOW', 'LYB', 'MTB', 'MRO', 'MPC', 'MKTX', 'MAR', 'MMC', 'MLM', 'MAS', 'MA', 'MTCH', 'MKC', 'MCD', 'MCK', 'MDT', 'MRK', 'META', 'MET', 'MTD', 'MGM', 'MCHP', 'MU', 'MSFT', 'MAA', 'MRNA', 'MHK', 'MOH', 'TAP', 'MDLZ', 'MPWR', 'MNST', 'MCO', 'MS', 'MOS', 'MSI', 'MSCI', 'NDAQ', 'NTAP', 'NFLX', 'NWL', 'NEM', 'NWSA', 'NWS', 'NEE', 'NKE', 'NI', 'NDSN', 'NSC', 'NTRS', 'NOC', 'NCLH', 'NRG', 'NUE', 'NVDA', 'NVR', 'NXPI', 'ORLY', 'OXY', 'ODFL', 'OMC', 'ON', 'OKE', 'ORCL', 'OGN', 'OTIS', 'PCAR', 'PKG', 'PARA', 'PH', 'PAYX', 'PAYC', 'PYPL', 'PNR', 'PEP', 'PKI', 'PFE', 'PCG', 'PM', 'PSX', 'PNW', 'PXD', 'PNC', 'POOL', 'PPG', 'PPL', 'PFG', 'PG', 'PGR', 'PLD', 'PRU', 'PEG', 'PTC', 'PSA', 'PHM', 'QRVO', 'PWR', 'QCOM', 'DGX', 'RL', 'RJF', 'RTX', 'O', 'REG', 'REGN', 'RF', 'RSG', 'RMD', 'RHI', 'ROK', 'ROL', 'ROP', 'ROST', 'RCL', 'SPGI', 'CRM', 'SBAC', 'SLB', 'STX', 'SEE', 'SRE', 'NOW', 'SHW', 'SPG', 'SWKS', 'SJM', 'SNA', 'SEDG', 'SO', 'LUV', 'SWK', 'SBUX', 'STT', 'STLD', 'STE', 'SYK', 'SYF', 'SNPS', 'SYY', 'TMUS', 'TROW', 'TTWO', 'TPR', 'TRGP', 'TGT', 'TEL', 'TDY', 'TFX', 'TER', 'TSLA', 'TXN', 'TXT', 'TMO', 'TJX', 'TSCO', 'TT', 'TDG', 'TRV', 'TRMB', 'TFC', 'TYL', 'TSN', 'USB', 'UDR', 'ULTA', 'UNP', 'UAL', 'UPS', 'URI', 'UNH', 'UHS', 'VLO', 'VTR', 'VRSN', 'VRSK', 'VZ', 'VRTX', 'VFC', 'VTRS', 'VICI', 'V', 'VMC', 'WAB', 'WBA', 'WMT', 'WBD', 'WM', 'WAT', 'WEC', 'WFC', 'WELL', 'WST', 'WDC', 'WRK', 'WY', 'WHR', 'WMB', 'WTW', 'GWW', 'WYNN', 'XEL', 'XYL', 'YUM', 'ZBRA', 'ZBH', 'ZION', 'ZTS']\n",
      "\n",
      "\n",
      "S&P MidCap 400 Tickers:\n",
      "['AA', 'ACHC', 'ACIW', 'ACM', 'ADC', 'ADNT', 'AFG', 'AGCO', 'AIRC', 'ALE', 'ALGM', 'ALV', 'AM', 'AMED', 'AMG', 'AMKR', 'AN', 'AR', 'ARMK', 'ARW', 'ARWR', 'ASB', 'ASGN', 'ASH', 'ATR', 'AVNT', 'AVT', 'AXON', 'AXTA', 'AYI', 'AZPN', 'AZTA', 'BC', 'BCO', 'BDC', 'BHF', 'BJ', 'BKH', 'BLD', 'BLDR', 'BLKB', 'BOH', 'BRBR', 'BRKR', 'BRX', 'BYD', 'CABO', 'CACI', 'CADE', 'CALX', 'CAR', 'CASY', 'CATY', 'CBSH', 'CBT', 'CC', 'CELH', 'CFR', 'CGNX', 'CHDN', 'CHE', 'CHH', 'CHRD', 'CHX', 'CIEN', 'CLF', 'CLH', 'CMC', 'CNO', 'CNX', 'CNXC', 'COHR', 'COKE', 'COLB', 'COLM', 'COTY', 'CPRI', 'CR', 'CRI', 'CROX', 'CRUS', 'CSL', 'CUBE', 'CUZ', 'CVLT', 'CW', 'DAN', 'DAR', 'DCI', 'DECK', 'DEI', 'DINO', 'DKS', 'DOC', 'DT', 'DTM', 'EEFT', 'EGP', 'EHC', 'EME', 'ENOV', 'ENR', 'ENS', 'ENV', 'EPR', 'ESAB', 'ESNT', 'ETRN', 'EVR', 'EWBC', 'EXEL', 'EXLS', 'EXP', 'EXPO', 'FAF', 'FCFS', 'FBIN', 'FCN', 'FFIN', 'FHI', 'FHN', 'FIVE', 'FL', 'FLO', 'FLR', 'FLS', 'FNB', 'FOXF', 'FR', 'FULT', 'FYBR', 'G', 'GATX', 'GBCI', 'GEF', 'GGG', 'GHC', 'GME', 'GMED', 'GNTX', 'GO', 'GPS', 'GT', 'GTLS', 'GXO', 'HAE', 'HALO', 'HE', 'HELE', 'HGV', 'HIW', 'HOG', 'HOMB', 'HQY', 'HR', 'HRB', 'HTZ', 'HUBB', 'HWC', 'HXL', 'IART', 'IBKR', 'IBOC', 'ICUI', 'IDA', 'INGR', 'IPGP', 'IRDM', 'IRT', 'ITT', 'JAZZ', 'JBL', 'JBLU', 'JEF', 'JHG', 'JLL', 'JWN', 'KBH', 'KBR', 'KD', 'KEX', 'KMPR', 'KNSL', 'KNX', 'KRC', 'KRG', 'KSS', 'LAD', 'LAMR', 'LANC', 'LEA', 'LECO', 'LEG', 'LFUS', 'LII', 'LITE', 'LIVN', 'LNTH', 'LNW', 'LOPE', 'LPX', 'LSCC', 'LSI', 'LSTR', 'M', 'MAC', 'MAN', 'MANH', 'MASI', 'MAT', 'MDU', 'MEDP', 'MIDD', 'MKSI', 'MMS', 'MODG', 'MP', 'MPW', 'MRCY', 'MSA', 'MSM', 'MTDR', 'MTG', 'MTSI', 'MTZ', 'MUR', 'MUSA', 'NARI', 'NATI', 'NAVI', 'NBIX', 'NCR', 'NEOG', 'NEU', 'NFG', 'NGVT', 'NJR', 'NLY', 'NNN', 'NOV', 'NOVT', 'NSA', 'NSP', 'NVST', 'NVT', 'NWE', 'NXST', 'NYCB', 'NYT', 'OC', 'OFC', 'OGE', 'OGS', 'OHI', 'OLED', 'OLLI', 'OLN', 'OMCL', 'ONB', 'OPCH', 'ORA', 'ORI', 'OSK', 'OZK', 'PACW', 'PB', 'PBF', 'PCH', 'PCTY', 'PDCE', 'PDCO', 'PEN', 'PENN', 'PFGC', 'PGNY', 'PII', 'PK', 'PNFP', 'PNM', 'POR', 'POST', 'POWI', 'PPC', 'PRGO', 'PRI', 'PVH', 'PZZA', 'QDEL', 'QLYS', 'R', 'RCM', 'REXR', 'RGA', 'RGEN', 'RGLD', 'RH', 'RLI', 'RNR', 'RPM', 'RRC', 'RRX', 'RS', 'RUN', 'RYN', 'SAIA', 'SAIC', 'SAM', 'SBRA', 'SCI', 'SEIC', 'SF', 'SFM', 'SHC', 'SIGI', 'SITM', 'SKX', 'SLAB', 'SLGN', 'SLM', 'SMCI', 'SMG', 'SNV', 'SNX', 'SON', 'SPWR', 'SR', 'SRC', 'SRCL', 'SSB', 'SSD', 'STAA', 'STWD', 'SWAV', 'SWN', 'SWX', 'SXT', 'SYNA', 'SYNH', 'TCBI', 'TDC', 'TEX', 'TGNA', 'THC', 'THG', 'THO', 'TKR', 'TMHC', 'TNL', 'TOL', 'TPX', 'TREX', 'TRIP', 'TTC', 'TTEK', 'TXRH', 'UA', 'UAA', 'UBSI', 'UFPI', 'UGI', 'UMBF', 'UNM', 'UNVR', 'USFD', 'UTHR', 'VAC', 'VAL', 'VC', 'VICR', 'VLY', 'VMI', 'VNO', 'VNT', 'VOYA', 'VSCO', 'VSH', 'VVV', 'WBS', 'WEN', 'WERN', 'WEX', 'WH', 'WING', 'WLK', 'WLY', 'WMS', 'WOLF', 'WOR', 'WSM', 'WSO', 'WTFC', 'WTRG', 'WTS', 'WU', 'WWD', 'WWE', 'X', 'XPO', 'XRX', 'YETI', 'ZD']\n",
      "\n",
      "\n",
      "IBEX Tickers:\n",
      "['ANA', 'ACX', 'ACS', 'AENA', 'AMS', 'MTS', 'SAB', 'SAN', 'BKT', 'BBVA', 'CABK', 'CLNX', 'ENG', 'ELE', 'FDR', 'FER', 'GRF', 'IAG', 'IBE', 'ITX', 'IDR', 'COL', 'MAP', 'MEL', 'MRL', 'NTGY', 'PHM', 'RED', 'REP', 'ROVI', 'SGRE', 'SLR', 'TEF']\n",
      "\n",
      "\n",
      "ASX Tickers:\n",
      "['A2M', 'ABC', 'ABP', 'AGL', 'AIA', 'AKE', 'ALD', 'ALL', 'ALQ', 'ALU', 'ALX', 'AMC', 'AMP', 'ANN', 'ANZ', 'APA', 'APE', 'SQ2', 'ARB', 'ARF', 'ASX', 'AUB', 'AWC', 'AZJ', 'AVZ', 'BAP', 'BEN', 'BGA', 'BHP', 'BKL', 'BKW', 'BLD', 'BOQ', 'BPT', 'BRN', 'BRG', 'BSL', 'BWP', 'BXB', 'CAR', 'CBA', 'CCP', 'CCX', 'CGC', 'CGF', 'CHC', 'CHN', 'CIA', 'CIP', 'CKF', 'CLW', 'CMW', 'CNI', 'CNU', 'COH', 'COL', 'CPU', 'CRN', 'CQR', 'CSL', 'CSR', 'CTD', 'CUV', 'CWY', 'CXO', 'DEG', 'DHG', 'DMP', 'DOW', 'DRR', 'DXS', 'EDV', 'ELD', 'EML', 'EVN', 'EVT', 'FBU', 'FLT', 'FMG', 'FPH', 'GMG', 'GNC', 'GOR', 'GOZ', 'GPT', 'GUD', 'HDN', 'HLS', 'HMC', 'HUB', 'HVN', 'IAG', 'IEL', 'IFL', 'IGO', 'ILU', 'IMU', 'INA', 'ING', 'IPH', 'IPL', 'IRE', 'IVC', 'JBH', 'JHG', 'JHX', 'KLS', 'LIC', 'LKE', 'LLC', 'LNK', 'LTR', 'LYC', 'MFG', 'MGR', 'MIN', 'MP1', 'MPL', 'MQG', 'MTS', 'NAB', 'NAN', 'NCM', 'NEC', 'NHC', 'NHF', 'NIC', 'NSR', 'NST', 'NUF', 'NVX', 'NWL', 'NWS', 'NXT', 'ORA', 'ORG', 'ORI', 'OZL', 'PBH', 'PDL', 'PDN', 'PLS', 'PME', 'PMV', 'PNI', 'PPT', 'PRU', 'QAN', 'QBE', 'QUB', 'REA', 'REH', 'RHC', 'RIO', 'RMD', 'RMS', 'RRL', 'RWC', 'S32', 'SBM', 'SCG', 'SCP', 'SDF', 'SEK', 'SFR', 'SGM', 'SGP', 'SGR', 'SHL', 'SLR', 'SOL', 'STO', 'SUL', 'SUN', 'SVW', 'TLX', 'TAH', 'TCL', 'TLC', 'TLS', 'TNE', 'TPG', 'TWE', 'TYR', 'UMG', 'UWL', 'VCX', 'VEA', 'VUK', 'WBC', 'WEB', 'WES', 'WHC', 'WOR', 'WOW', 'WDS', 'WPR', 'WTC', 'XRO', 'ZIP']\n",
      "\n",
      "\n",
      "DAX Tickers:\n",
      "['ADS.DE', 'AIR.DE', 'ALV.DE', 'BAS.DE', 'BAYN.DE', 'BEI.DE', 'BMW.DE', 'BNR.DE', 'CBK.DE', 'CON.DE', '1COV.DE', 'DTG.DE', 'DBK.DE', 'DB1.DE', 'DPW.DE', 'DTE.DE', 'EOAN.DE', 'FRE.DE', 'HNR1.DE', 'HEI.DE', 'HEN3.DE', 'IFX.DE', 'MBG.DE', 'MRK.DE', 'MTX.DE', 'MUV2.DE', 'P911.DE', 'PAH3.DE', 'QIA.DE', 'RHM.DE', 'RWE.DE', 'SAP.DE', 'SRT3.DE', 'SIE.DE', 'ENR.DE', 'SHL.DE', 'SY1.DE', 'VOW3.DE', 'VNA.DE', 'ZAL.DE']\n",
      "\n",
      "\n"
     ]
    }
   ],
   "source": [
    "import requests\n",
    "from bs4 import BeautifulSoup\n",
    "import csv\n",
    "import os\n",
    "\n",
    "def save_tickers_to_csv(tickers, filename):\n",
    "    # Erstelle den Ordner 'Tickers', wenn er nicht existiert\n",
    "    if not os.path.exists(\"Tickers\"):\n",
    "        os.makedirs(\"Tickers\")\n",
    "\n",
    "    # Speichere die Tickers in einer Datei im Ordner 'Tickers'\n",
    "    with open(os.path.join(\"Tickers\", filename), mode='w', newline='', encoding='utf-8') as f:\n",
    "        writer = csv.writer(f)\n",
    "        for ticker in tickers:\n",
    "            writer.writerow([ticker])\n",
    "\n",
    "def get_sp500_tickers():\n",
    "    url = \"https://en.wikipedia.org/wiki/List_of_S%26P_500_companies\"\n",
    "    return get_tickers_from_wikipedia(url)\n",
    "\n",
    "def get_sp400_tickers():\n",
    "    url = \"https://en.wikipedia.org/wiki/List_of_S%26P_400_companies\"\n",
    "    return get_tickers_from_wikipedia(url)\n",
    "\n",
    "def get_ibex_tickers():\n",
    "    url = \"https://en.wikipedia.org/wiki/IBEX_35\"\n",
    "    return get_tickers_from_wikipedia(url)\n",
    "\n",
    "def get_asx_tickers():\n",
    "    url = \"https://en.wikipedia.org/wiki/S%26P/ASX_200\"\n",
    "    return get_tickers_from_wikipedia(url)\n",
    "\n",
    "def get_DAX():\n",
    "    url = \"https://en.wikipedia.org/wiki/DAX\"\n",
    "    return get_tickers_from_wikipedia(url, ticker_cell_index=3)\n",
    "\n",
    "def get_tickers_from_wikipedia(url, header_position=0, ticker_cell_index=0):\n",
    "    response = requests.get(url)\n",
    "    soup = BeautifulSoup(response.text, \"html.parser\")\n",
    "    table = soup.findAll(\"table\", {\"class\": \"wikitable sortable\"})[header_position]\n",
    "\n",
    "    tickers = []\n",
    "\n",
    "    for row in table.findAll(\"tr\")[1:]:\n",
    "        ticker = row.findAll(\"td\")[ticker_cell_index].text.strip()\n",
    "        tickers.append(ticker)\n",
    "\n",
    "    return tickers\n",
    "\n",
    "indices = {\n",
    "    \"S&P 500\": get_sp500_tickers,\n",
    "    \"S&P MidCap 400\": get_sp400_tickers,\n",
    "    \"IBEX\": get_ibex_tickers,\n",
    "    \"ASX\": get_asx_tickers,\n",
    "    \"DAX\": get_DAX\n",
    "}\n",
    "\n",
    "for index_name, func in indices.items():\n",
    "    tickers = func()\n",
    "    print(f\"{index_name} Tickers:\")\n",
    "    print(tickers)\n",
    "    print(\"\\n\")\n",
    "    save_tickers_to_csv(tickers, f\"{index_name}_tickers_.csv\")\n"
   ]
  }
 ],
 "metadata": {
  "kernelspec": {
   "display_name": "base",
   "language": "python",
   "name": "python3"
  },
  "language_info": {
   "codemirror_mode": {
    "name": "ipython",
    "version": 3
   },
   "file_extension": ".py",
   "mimetype": "text/x-python",
   "name": "python",
   "nbconvert_exporter": "python",
   "pygments_lexer": "ipython3",
   "version": "3.9.16"
  }
 },
 "nbformat": 4,
 "nbformat_minor": 2
}
